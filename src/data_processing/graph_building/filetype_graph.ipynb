{
 "cells": [
  {
   "cell_type": "code",
   "execution_count": 1,
   "id": "3905fe65",
   "metadata": {},
   "outputs": [],
   "source": [
    "import os\n",
    "\n",
    "# Construct the relative path\n",
    "cypher_file_path = os.path.join('..', '..', '..', 'cypher', 'filetypes', 'filetypes.cypher')\n",
    "\n",
    "# Verify the path exists\n",
    "if not os.path.exists(cypher_file_path):\n",
    "    raise FileNotFoundError(f\"Cypher file not found at: {cypher_file_path}\")\n",
    "\n",
    "# Read the file\n",
    "with open(cypher_file_path, 'r') as file:\n",
    "    cypher_content = file.read()\n",
    "\n",
    "# Now you can use cypher_content"
   ]
  },
  {
   "cell_type": "code",
   "execution_count": 2,
   "id": "f873dab2",
   "metadata": {},
   "outputs": [],
   "source": [
    "# Split the cypher_content into individual instructions\n",
    "instructions = [instruction.strip() for instruction in cypher_content.split(';') if instruction.strip()]"
   ]
  },
  {
   "cell_type": "code",
   "execution_count": 3,
   "id": "8a2bbfe9",
   "metadata": {},
   "outputs": [],
   "source": [
    "import os\n",
    "from dotenv import load_dotenv\n",
    "from pathlib import Path\n",
    "\n",
    "# Load .env file relative to the project root\n",
    "project_root = os.path.join('..', '..', '..', '.env')  # Adjust based on your structure\n",
    "load_dotenv(project_root)\n",
    "\n",
    "# Neo4j credentials\n",
    "NEO4J_URI = os.getenv(\"NEO4J_URI\")\n",
    "NEO4J_USER = os.getenv(\"NEO4J_USERNAME\")\n",
    "NEO4J_PASSWORD = os.getenv(\"NEO4J_PASSWORD\")"
   ]
  },
  {
   "cell_type": "code",
   "execution_count": 4,
   "id": "8ac95e37",
   "metadata": {},
   "outputs": [
    {
     "name": "stdout",
     "output_type": "stream",
     "text": [
      "\n",
      "Executing instruction 1/19: // Create nodes for each file type with their prop...\n",
      "Instruction 1 executed successfully (no results returned)\n",
      "\n",
      "Executing instruction 2/19: MERGE (:FileType {\n",
      "  name: \"Canadian Well Log ASCI...\n",
      "Instruction 2 executed successfully (no results returned)\n",
      "\n",
      "Executing instruction 3/19: MERGE (:FileType {\n",
      "  name: \"Text (ASCII)\",\n",
      "  exten...\n",
      "Instruction 3 executed successfully (no results returned)\n",
      "\n",
      "Executing instruction 4/19: MERGE (:FileType {\n",
      "  name: \"Comma Separated Values...\n",
      "Instruction 4 executed successfully (no results returned)\n",
      "\n",
      "Executing instruction 5/19: MERGE (:FileType {\n",
      "  name: \"Tab Delimited (ASCII)\"...\n",
      "Instruction 5 executed successfully (no results returned)\n",
      "\n",
      "Executing instruction 6/19: MERGE (:FileType {\n",
      "  name: \"Metafile\",\n",
      "  extension...\n",
      "Instruction 6 executed successfully (no results returned)\n",
      "\n",
      "Executing instruction 7/19: MERGE (:FileType {\n",
      "  name: \"Windows Metafile\",\n",
      "  e...\n",
      "Instruction 7 executed successfully (no results returned)\n",
      "\n",
      "Executing instruction 8/19: MERGE (:FileType {\n",
      "  name: \"Enhanced Metafile\",\n",
      "  ...\n",
      "Instruction 8 executed successfully (no results returned)\n",
      "\n",
      "Executing instruction 9/19: MERGE (:FileType {\n",
      "  name: \"Scalable Vector Graphi...\n",
      "Instruction 9 executed successfully (no results returned)\n",
      "\n",
      "Executing instruction 10/19: MERGE (:FileType {\n",
      "  name: \"Extensible Mark-up Lan...\n",
      "Instruction 10 executed successfully (no results returned)\n",
      "\n",
      "Executing instruction 11/19: MERGE (:FileType {\n",
      "  name: \"VIEW\",\n",
      "  extension: \"V...\n",
      "Instruction 11 executed successfully (no results returned)\n",
      "\n",
      "Executing instruction 12/19: MERGE (:FileType {\n",
      "  name: \"Output Database File\",...\n",
      "Instruction 12 executed successfully (no results returned)\n",
      "\n",
      "Executing instruction 13/19: MERGE (:FileType {\n",
      "  name: \"ODF Database Template\"...\n",
      "Instruction 13 executed successfully (no results returned)\n",
      "\n",
      "Executing instruction 14/19: MERGE (:FileType {\n",
      "  name: \"ODF Interval File\",\n",
      "  ...\n",
      "Instruction 14 executed successfully (no results returned)\n",
      "\n",
      "Executing instruction 15/19: MERGE (:FileType {\n",
      "  name: \"ODF Update File\",\n",
      "  ex...\n",
      "Instruction 15 executed successfully (no results returned)\n",
      "\n",
      "Executing instruction 16/19: MERGE (:FileType {\n",
      "  name: \"GEODraft Output Databa...\n",
      "Instruction 16 executed successfully (no results returned)\n",
      "\n",
      "Executing instruction 17/19: MERGE (:FileType {\n",
      "  name: \"GEODraft View File\",\n",
      " ...\n",
      "Instruction 17 executed successfully (no results returned)\n",
      "\n",
      "Executing instruction 18/19: MERGE (:FileType {\n",
      "  name: \"GEOGraph Database file...\n",
      "Instruction 18 executed successfully (no results returned)\n",
      "\n",
      "Executing instruction 19/19: MERGE (:FileType {\n",
      "  name: \"GEOGraph Template file...\n",
      "Instruction 19 executed successfully (no results returned)\n"
     ]
    }
   ],
   "source": [
    "from neo4j import GraphDatabase\n",
    "\n",
    "class Neo4jConnector:\n",
    "    def __init__(self, uri, user, password):\n",
    "        self.driver = GraphDatabase.driver(uri, auth=(user, password))\n",
    "\n",
    "    def close(self):\n",
    "        self.driver.close()\n",
    "\n",
    "    def run_query(self, query, **kwargs):\n",
    "        with self.driver.session() as session:\n",
    "            result = session.run(query, **kwargs)\n",
    "            return list(result)  # Convert to list if needed\n",
    "\n",
    "# Initialize connection\n",
    "neo4j_conn = Neo4jConnector(NEO4J_URI, NEO4J_USER, NEO4J_PASSWORD)\n",
    "\n",
    "# Execute each Cypher instruction separately\n",
    "for i, instruction in enumerate(instructions, 1):\n",
    "    try:\n",
    "        print(f\"\\nExecuting instruction {i}/{len(instructions)}: {instruction[:50]}...\")  # Show first 50 chars\n",
    "        results = neo4j_conn.run_query(instruction)\n",
    "        \n",
    "        # Print results if the query returns data\n",
    "        if results:\n",
    "            print(f\"Results from instruction {i}:\")\n",
    "            for record in results:\n",
    "                print(record)\n",
    "        else:\n",
    "            print(f\"Instruction {i} executed successfully (no results returned)\")\n",
    "            \n",
    "    except Exception as e:\n",
    "        print(f\"Error executing instruction {i}: {str(e)}\")\n",
    "        # Continue or break based on your requirements\n",
    "        continue  # or break to stop on first error\n",
    "# Close connection\n",
    "neo4j_conn.close()"
   ]
  },
  {
   "cell_type": "code",
   "execution_count": 6,
   "id": "c9a3ca3c",
   "metadata": {},
   "outputs": [
    {
     "name": "stderr",
     "output_type": "stream",
     "text": [
      "c:\\Users\\HaochengLin\\Documents\\GitHub\\geo-knowledge-graph-builder\\venv\\Lib\\site-packages\\tqdm\\auto.py:21: TqdmWarning: IProgress not found. Please update jupyter and ipywidgets. See https://ipywidgets.readthedocs.io/en/stable/user_install.html\n",
      "  from .autonotebook import tqdm as notebook_tqdm\n"
     ]
    }
   ],
   "source": [
    "import os\n",
    "import json\n",
    "import faiss\n",
    "import numpy as np\n",
    "import ollama\n",
    "from sentence_transformers import SentenceTransformer"
   ]
  },
  {
   "cell_type": "code",
   "execution_count": 7,
   "id": "3890edcc",
   "metadata": {},
   "outputs": [],
   "source": [
    "# 1. Load JSON file\n",
    "json_file_path = os.path.join('..', '..', '..', 'Training_Info', 'filetypes.json')\n",
    "with open(json_file_path, 'r') as f:\n",
    "    filetypes = json.load(f)"
   ]
  },
  {
   "cell_type": "code",
   "execution_count": 8,
   "id": "e9da5c08",
   "metadata": {},
   "outputs": [],
   "source": [
    "# 2. Chunking: Flatten each filetype into a single string\n",
    "chunks = []\n",
    "chunk_id_to_info = {}\n",
    "\n",
    "for idx, ftype in enumerate(filetypes):\n",
    "    chunk_text = f\"\"\"\n",
    "Name: {ftype['name']}\n",
    "Extension(s): {ftype['extension']}\n",
    "Description: {ftype['description']}\n",
    "Loadable in GEO: {ftype['load']}\n",
    "Exportable from GEO: {ftype['export']}\n",
    "\"\"\"\n",
    "    chunks.append(chunk_text)\n",
    "    chunk_id_to_info[idx] = chunk_text"
   ]
  },
  {
   "cell_type": "code",
   "execution_count": 9,
   "id": "95b60403",
   "metadata": {},
   "outputs": [],
   "source": [
    "# 3. Embedding\n",
    "embedder = SentenceTransformer('all-MiniLM-L6-v2')\n",
    "embeddings = embedder.encode(chunks, convert_to_numpy=True)"
   ]
  },
  {
   "cell_type": "code",
   "execution_count": 10,
   "id": "e15b68a5",
   "metadata": {},
   "outputs": [],
   "source": [
    "# 4. Vector store using FAISS\n",
    "dimension = embeddings.shape[1]\n",
    "index = faiss.IndexFlatL2(dimension)\n",
    "index.add(embeddings)"
   ]
  },
  {
   "cell_type": "code",
   "execution_count": 11,
   "id": "bed33c9f",
   "metadata": {},
   "outputs": [],
   "source": [
    "# 5. RAG Function to handle a query\n",
    "def answer_question(question, k=3):\n",
    "    # Embed the question\n",
    "    query_vec = embedder.encode([question], convert_to_numpy=True)\n",
    "    \n",
    "    # Retrieve top-k chunks\n",
    "    D, I = index.search(query_vec, k)\n",
    "    top_chunks = [chunk_id_to_info[i] for i in I[0]]\n",
    "    \n",
    "    # Construct prompt using relevant chunks\n",
    "    context = \"\\n---\\n\".join(top_chunks)\n",
    "    system_prompt = f\"\"\"You are a geoscience file format expert. Based on the following file type information, answer the user's question.\\n\\n{context}\"\"\"\n",
    "    \n",
    "    # Ask TinyLLaMA\n",
    "    response = ollama.chat(\n",
    "        model='tinyllama:latest',\n",
    "        messages=[\n",
    "            {'role': 'system', 'content': system_prompt},\n",
    "            {'role': 'user', 'content': question}\n",
    "        ]\n",
    "    )\n",
    "    return response['message']['content']"
   ]
  },
  {
   "cell_type": "code",
   "execution_count": 12,
   "id": "945d2b17",
   "metadata": {},
   "outputs": [
    {
     "name": "stdout",
     "output_type": "stream",
     "text": [
      "A VIEW (View File) is an internal file format developed by the GeoDraft application for managing log data in geoscience projects. VIEW files are created by the GEO Software Suite and can be used to import and export log data, as well as to store and organize layout-related information.\n",
      "\n",
      "As for being exportable, yes, VIEW files can be exported from GEO in many different formats such as ASCII, Excel, CSV or XML. However, exporting a VIEW file from GEO does not guarantee that the imported data will be accurately preserved and cannot guarantee the accuracy of the imported data or the preservation of metadata or other information associated with log data. This is because GEO Software Suite files are proprietary in nature and may not be compatible with different formats or applications outside of the software suite.\n"
     ]
    }
   ],
   "source": [
    "# 🔍 Example\n",
    "print(answer_question(\"What is a VIEW file and can it be exported?\"))"
   ]
  }
 ],
 "metadata": {
  "kernelspec": {
   "display_name": "venv",
   "language": "python",
   "name": "python3"
  },
  "language_info": {
   "codemirror_mode": {
    "name": "ipython",
    "version": 3
   },
   "file_extension": ".py",
   "mimetype": "text/x-python",
   "name": "python",
   "nbconvert_exporter": "python",
   "pygments_lexer": "ipython3",
   "version": "3.13.1"
  }
 },
 "nbformat": 4,
 "nbformat_minor": 5
}
