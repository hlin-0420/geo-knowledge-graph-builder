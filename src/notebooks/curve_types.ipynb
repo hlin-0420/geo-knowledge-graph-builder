{
 "cells": [
  {
   "cell_type": "code",
   "execution_count": 1,
   "id": "3fd88fb7",
   "metadata": {},
   "outputs": [],
   "source": [
    "from neo4j import GraphDatabase\n",
    "import os"
   ]
  },
  {
   "cell_type": "code",
   "execution_count": 2,
   "id": "0f91610a",
   "metadata": {},
   "outputs": [],
   "source": [
    "class CurveGraphLoader:\n",
    "    def __init__(self, uri, user, password):\n",
    "        self.driver = GraphDatabase.driver(uri, auth=(user, password))\n",
    "    \n",
    "    def close(self):\n",
    "        self.driver.close()\n",
    "\n",
    "    def run_cypher_file(self, filepath):\n",
    "        with self.driver.session() as session:\n",
    "            with open(filepath, 'r', encoding='utf-8') as f:\n",
    "                cypher_commands = f.read()\n",
    "                # Run individual queries split by semicolon\n",
    "                for query in cypher_commands.split(';'):\n",
    "                    query = query.strip()\n",
    "                    if query:\n",
    "                        session.run(query)"
   ]
  },
  {
   "cell_type": "code",
   "execution_count": 3,
   "id": "a404c6ea",
   "metadata": {},
   "outputs": [],
   "source": [
    "uri = os.getenv(\"NEO4J_URI\")\n",
    "user = os.getenv(\"NEO4J_USERNAME\")\n",
    "password = os.getenv(\"NEO4J_PASSWORD\")"
   ]
  },
  {
   "cell_type": "code",
   "execution_count": 4,
   "id": "f60a1896",
   "metadata": {},
   "outputs": [],
   "source": [
    "loader = CurveGraphLoader(uri, user, password)"
   ]
  },
  {
   "cell_type": "code",
   "execution_count": 5,
   "id": "e89a308e",
   "metadata": {},
   "outputs": [],
   "source": [
    "# Run setup\n",
    "loader.run_cypher_file(\"../../../../cypher/data/curve_type.cypher\")"
   ]
  },
  {
   "cell_type": "code",
   "execution_count": 6,
   "id": "be9cefcf",
   "metadata": {},
   "outputs": [
    {
     "name": "stdout",
     "output_type": "stream",
     "text": [
      "Graph loaded successfully.\n"
     ]
    }
   ],
   "source": [
    "loader.close()\n",
    "print(\"Graph loaded successfully.\")"
   ]
  }
 ],
 "metadata": {
  "kernelspec": {
   "display_name": "venv",
   "language": "python",
   "name": "python3"
  },
  "language_info": {
   "codemirror_mode": {
    "name": "ipython",
    "version": 3
   },
   "file_extension": ".py",
   "mimetype": "text/x-python",
   "name": "python",
   "nbconvert_exporter": "python",
   "pygments_lexer": "ipython3",
   "version": "3.13.1"
  }
 },
 "nbformat": 4,
 "nbformat_minor": 5
}
